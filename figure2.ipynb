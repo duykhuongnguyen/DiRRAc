{
 "cells": [
  {
   "cell_type": "markdown",
   "id": "311d2f8e",
   "metadata": {},
   "source": [
    "# Import libraries"
   ]
  },
  {
   "cell_type": "code",
   "execution_count": 1,
   "id": "9f3ee380",
   "metadata": {},
   "outputs": [
    {
     "name": "stdout",
     "output_type": "stream",
     "text": [
      "[ENV WARNING] deactivate virtualenv to allow for testing Actionable Recourse\n"
     ]
    }
   ],
   "source": [
    "import os\n",
    "import numpy as np\n",
    "from sklearn.model_selection import train_test_split\n",
    "import matplotlib.pyplot as plt\n",
    "\n",
    "from dirrac.data.synthetic_data import DataSynthesizer\n",
    "from dirrac.classifier.logistic import logistic_classifier\n",
    "from dirrac.optim.opt import Optimization\n",
    "from utils import pad_ones"
   ]
  },
  {
   "cell_type": "code",
   "execution_count": 2,
   "id": "e4d184fa",
   "metadata": {},
   "outputs": [],
   "source": [
    "# Matplotlib config\n",
    "SMALL_SIZE = 8\n",
    "MEDIUM_SIZE = 10\n",
    "BIGGER_SIZE = 14\n",
    "\n",
    "plt.rc('font', size=BIGGER_SIZE)          # controls default text sizes\n",
    "plt.rc('axes', titlesize=BIGGER_SIZE)     # fontsize of the axes title\n",
    "plt.rc('axes', labelsize=BIGGER_SIZE)    # fontsize of the x and y labels\n",
    "plt.rc('xtick', labelsize=BIGGER_SIZE)    # fontsize of the tick labels\n",
    "plt.rc('ytick', labelsize=BIGGER_SIZE)    # fontsize of the tick labels\n",
    "plt.rc('legend', fontsize=MEDIUM_SIZE)    # legend fontsize"
   ]
  },
  {
   "cell_type": "markdown",
   "id": "e04c1168",
   "metadata": {},
   "source": [
    "# Synthesize data and train classifiers"
   ]
  },
  {
   "cell_type": "code",
   "execution_count": 3,
   "id": "7c0781da",
   "metadata": {},
   "outputs": [],
   "source": [
    "# Original data parameters\n",
    "mean_0 = np.ones(2) * (-3)\n",
    "mean_1 = np.ones(2) * 3\n",
    "cov_0 = cov_1 = np.identity(2)\n",
    "n = 1000\n",
    "\n",
    "\"\"\" Here we synthesize original data, \n",
    "and 100 data distribution shifts \n",
    "with 50 mean shifts, 50 covariance shifts with\n",
    "shifted parameters \\alpha and \\beta adaptive to iteration with factor 0.1 \"\"\"\n",
    "sd = DataSynthesizer(mean_0, cov_0, mean_1, cov_1, n)\n",
    "features, labels = sd.synthesize_modes_data(100, [0.5, 0.5, 0], [0.1, 0.1])"
   ]
  },
  {
   "cell_type": "code",
   "execution_count": 4,
   "id": "e9738222",
   "metadata": {},
   "outputs": [],
   "source": [
    "# Fist we split the original data, and train the original classifier on training data\n",
    "X_train, X_test, y_train, y_test = train_test_split(pad_ones(features[0]), labels[0], test_size=0.2)\n",
    "clf, orig_theta = logistic_classifier(X_train, y_train, intercept=True)\n",
    "\n",
    "# X_recourse is all the instances that are classified as negative class\n",
    "X_recourse = X_test[clf.predict(X_test) == 0]\n",
    "\n",
    "# We choose the first instance to visualize\n",
    "# x_0 = X_recourse[np.random.choice(X_recourse.shape[0], 1, replace=False)].squeeze()\n",
    "\n",
    "# For illustration, we choose $x_0 = [-1, -1]$\n",
    "x_0 = np.array([0, 0, 1])"
   ]
  },
  {
   "cell_type": "code",
   "execution_count": 5,
   "id": "1b9fd0fe",
   "metadata": {},
   "outputs": [],
   "source": [
    "# Train 101 classifiers, the first is on the original dataset and the others are on shifted data\n",
    "all_coef = np.zeros((101, 3))\n",
    "for i in range(101):\n",
    "    all_coef[i] = logistic_classifier(pad_ones(features[i]), labels[i])[1]\n",
    "    \n",
    "# Get theta and sigma with 2 types of distribution shifts: mean shifts and covariance shifts\n",
    "mean_shift = all_coef[1:51]\n",
    "cov_shift = all_coef[51:101]\n",
    "\n",
    "theta_0, sigma_0 = np.mean(mean_shift, axis=0), np.cov(mean_shift.T)\n",
    "theta_1, sigma_1 = np.mean(cov_shift, axis=0), np.cov(cov_shift.T)\n",
    "\n",
    "theta = np.zeros((2, 3))\n",
    "sigma = np.zeros((2, 3, 3))\n",
    "\n",
    "theta[0] = theta_0\n",
    "theta[1] = theta_1\n",
    "\n",
    "sigma[0] = sigma_0\n",
    "sigma[1] = sigma_1"
   ]
  },
  {
   "cell_type": "code",
   "execution_count": 6,
   "id": "e7e7c16b",
   "metadata": {},
   "outputs": [],
   "source": [
    "# For illustration, we choose different theta\n",
    "theta = np.array([[ 1.38772071,  2.05998749, -0.59898248], [2.66331018,  1.65496587, -1.92942816]])"
   ]
  },
  {
   "cell_type": "markdown",
   "id": "51f72fc9",
   "metadata": {},
   "source": [
    "# Initialize model parameters and find take projection to feasible set"
   ]
  },
  {
   "cell_type": "code",
   "execution_count": 7,
   "id": "846ed904",
   "metadata": {},
   "outputs": [],
   "source": [
    "# Model parameters\n",
    "delta_add = 2\n",
    "K = 2\n",
    "dim = 3\n",
    "p = np.array([0.5, 0.5])\n",
    "rho = np.array([1, 1])\n",
    "lmbda = 0.7\n",
    "zeta = 1\n",
    "opt = Optimization(delta_add, K, dim, p, theta, sigma, rho, lmbda, zeta, padding=True)"
   ]
  },
  {
   "cell_type": "code",
   "execution_count": 8,
   "id": "4dc08876",
   "metadata": {},
   "outputs": [],
   "source": [
    "# Find delta_min\n",
    "delta_min = opt.find_delta_min(x_0)\n",
    "delta = delta_min + delta_add"
   ]
  },
  {
   "cell_type": "code",
   "execution_count": 9,
   "id": "1bc8aa55",
   "metadata": {},
   "outputs": [
    {
     "data": {
      "text/plain": [
       "3.086185448508999"
      ]
     },
     "execution_count": 9,
     "metadata": {},
     "output_type": "execute_result"
    }
   ],
   "source": [
    "delta"
   ]
  },
  {
   "cell_type": "code",
   "execution_count": 10,
   "id": "3c67c41f",
   "metadata": {},
   "outputs": [],
   "source": [
    "# Find x w.r.t to delta_min\n",
    "x_delta_min = opt.projection_moments_infor(x_0, X_recourse[0], delta)"
   ]
  },
  {
   "cell_type": "code",
   "execution_count": 11,
   "id": "e0857ff8",
   "metadata": {},
   "outputs": [
    {
     "data": {
      "text/plain": [
       "array([0.66484143, 1.06729751, 1.        ])"
      ]
     },
     "execution_count": 11,
     "metadata": {},
     "output_type": "execute_result"
    }
   ],
   "source": [
    "x_delta_min"
   ]
  },
  {
   "cell_type": "code",
   "execution_count": 12,
   "id": "3915201f",
   "metadata": {},
   "outputs": [],
   "source": [
    "# Constraint to visualize\n",
    "def constraint1(x0, x1):\n",
    "    return np.sqrt((x0 - x_0[0]) ** 2 + (x1 - x_0[1]) ** 2 + 1) - delta \n",
    "\n",
    "\n",
    "def constraint2(x0, x1, k, rho):\n",
    "    f_val = 0\n",
    "    A_k = -(theta[k][0] * x0 + theta[k][1] * x1 + theta[k][2] * 1)\n",
    "    C_k = rho[k] * np.sqrt(x0 ** 2 + x1 ** 2 + 1)\n",
    "    f_val = (A_k + C_k)\n",
    "        \n",
    "    return f_val"
   ]
  },
  {
   "cell_type": "markdown",
   "id": "1b0155d0",
   "metadata": {},
   "source": [
    "# Visualization"
   ]
  },
  {
   "cell_type": "code",
   "execution_count": 13,
   "id": "1aa7ffef",
   "metadata": {},
   "outputs": [],
   "source": [
    "def visualize(x_0, delta):\n",
    "    \n",
    "    fig, ax = plt.subplots()\n",
    "    xmin, xmax = -1, 4\n",
    "    ymin, ymax = -1, 3\n",
    "    \n",
    "    x = np.linspace(xmin, xmax, 500)\n",
    "    y = np.linspace(ymin, ymax, 500)\n",
    "    X, Y = np.meshgrid(x, y)\n",
    "    \n",
    "    # Calculate constraint values\n",
    "    J_grid1 = constraint1(X, Y)\n",
    "    J_grid2 = constraint2(X, Y, 0, rho=np.array([0, 0]))\n",
    "    J_grid3 = constraint2(X, Y, 1, rho=np.array([0, 0]))\n",
    "    \n",
    "    J_grid4 = constraint2(X, Y, 0, rho=np.array([1, 1]))\n",
    "    J_grid5 = constraint2(X, Y, 1, rho=np.array([1, 1]))\n",
    "\n",
    "    # Plot x_0 and x_projection\n",
    "    ax.scatter(*(x_0[0], x_0[1]), zorder=5, s=5, c='black')\n",
    "    ax.annotate('$x_{0}$', (x_0[0] - 0.3, x_0[1] - 0.4))\n",
    "    ax.scatter(*(x_delta_min[0], x_delta_min[1]), zorder=5, s=5, c='black')\n",
    "    ax.annotate('$x_{proj}$', (x_delta_min[0]- 0.3, x_delta_min[1] - 0.4))\n",
    "\n",
    "    # Visualize contour of constraint\n",
    "    ax.contour(X, Y, J_grid1, 0)\n",
    "\n",
    "    CS = ax.contour(X, Y, J_grid2, 0, colors='blue', linestyles='dashed')\n",
    "    CS.collections[0].set_label(r'$-\\hat\\theta_1^\\top x = 0$')\n",
    "\n",
    "    CS = ax.contour(X, Y, J_grid3, 0, colors='orange', linestyles='dashed')\n",
    "    CS.collections[0].set_label(r'$-\\hat\\theta_2^\\top x = 0$')\n",
    "    \n",
    "    CS = ax.contour(X, Y, J_grid4, 0, colors='blue')\n",
    "    CS.collections[0].set_label(r'$-\\hat\\theta_1^\\top x + \\rho_1 \\|x \\|_2 = 0$')\n",
    "\n",
    "    CS = ax.contour(X, Y, J_grid5, 0, colors='orange')\n",
    "    CS.collections[0].set_label(r'$-\\hat\\theta_2^\\top x + \\rho_2 \\|x \\|_2 = 0$')\n",
    "\n",
    "    ax.set_xlim(xmin, xmax)\n",
    "    ax.set_ylim(ymin, ymax)\n",
    "    \n",
    "    ax.set_xlabel('$x_{1}$')\n",
    "    ax.set_ylabel('$x_{2}$')\n",
    "    \n",
    "    plt.gca().set_aspect('equal', adjustable='box')\n",
    "    # ax.legend(frameon=False, loc='upper right', bbox_to_anchor=(0.4, 1.05, 1.1, .11))# , ncol=5)\n",
    "    plt.axis('off')\n",
    "\n",
    "    if not os.path.exists('result/figure2/'):\n",
    "        os.makedirs('result/figure2/')\n",
    "    plt.savefig('result/figure2/feasible_set.png', dpi=1000, transparent=True)\n",
    "    plt.show()"
   ]
  },
  {
   "cell_type": "code",
   "execution_count": 14,
   "id": "de1cf513",
   "metadata": {},
   "outputs": [
    {
     "data": {
      "image/png": "[encoded data removed]",
      "text/plain": [
       "<Figure size 432x288 with 1 Axes>"
      ]
     },
     "metadata": {
      "needs_background": "light"
     },
     "output_type": "display_data"
    }
   ],
   "source": [
    "visualize(x_0, delta)"
   ]
  }
 ],
 "metadata": {
  "kernelspec": {
   "display_name": "Python 3 (ipykernel)",
   "language": "python",
   "name": "python3"
  },
  "language_info": {
   "codemirror_mode": {
    "name": "ipython",
    "version": 3
   },
   "file_extension": ".py",
   "mimetype": "text/x-python",
   "name": "python",
   "nbconvert_exporter": "python",
   "pygments_lexer": "ipython3",
   "version": "3.7.11"
  }
 },
 "nbformat": 4,
 "nbformat_minor": 5
}
