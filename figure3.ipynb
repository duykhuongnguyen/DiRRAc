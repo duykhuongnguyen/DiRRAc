{
 "cells": [
  {
   "cell_type": "markdown",
   "id": "72a27a16",
   "metadata": {},
   "source": [
    "# Import libraries"
   ]
  },
  {
   "cell_type": "code",
   "execution_count": 1,
   "id": "f031f752",
   "metadata": {},
   "outputs": [],
   "source": [
    "import os\n",
    "import numpy as np\n",
    "import matplotlib.pyplot as plt\n",
    "from sklearn.model_selection import train_test_split\n",
    "\n",
    "from dirrac.data.synthetic_data import DataSynthesizer\n",
    "from dirrac.classifier.logistic import logistic_classifier\n",
    "from dirrac.optim.opt import Optimization\n",
    "from roar.gen_counterfactual import ROAR\n",
    "from dirrac.gen_counterfactual import DRRA\n",
    "from utils import cal_validity"
   ]
  },
  {
   "cell_type": "code",
   "execution_count": 2,
   "id": "af770047",
   "metadata": {},
   "outputs": [],
   "source": [
    "if not os.path.exists('result/figure9/'):\n",
    "    os.makedirs('result/figure9/')"
   ]
  },
  {
   "cell_type": "markdown",
   "id": "cb6a6b67",
   "metadata": {},
   "source": [
    "# Synthesize data and train original classifier"
   ]
  },
  {
   "cell_type": "code",
   "execution_count": 3,
   "id": "b8c0ebac",
   "metadata": {},
   "outputs": [],
   "source": [
    "# Synthesize data\n",
    "mean_0 = np.ones(2) * (-3)\n",
    "mean_1 = np.ones(2) * 3\n",
    "cov_0 = cov_1 = np.identity(2)\n",
    "n = 1000\n",
    "p = [0.4, 0.2, 0.4]\n",
    "\n",
    "sd = DataSynthesizer(mean_0, cov_0, mean_1, cov_1, n)\n",
    "features, labels = sd.synthesize_modes_data(100, [0.4, 0.2, 0.4], [0.1, 0.1])"
   ]
  },
  {
   "cell_type": "code",
   "execution_count": 4,
   "id": "c5b9e79a",
   "metadata": {},
   "outputs": [],
   "source": [
    "# Train\n",
    "all_coef = np.zeros((101, 2))\n",
    "for i in range(101):\n",
    "    coef = logistic_classifier(features[i], labels[i])[1].T\n",
    "    all_coef[i] = np.squeeze(coef)\n",
    "\n",
    "# Get theta\n",
    "mean_shift = all_coef[1:41]\n",
    "cov_shift = all_coef[41:61]\n",
    "both_shift = all_coef[61:101]\n",
    "\n",
    "theta = np.zeros((3, 2))\n",
    "sigma = np.zeros((3, 2, 2))\n",
    "\n",
    "theta[0], sigma[0] = np.mean(mean_shift, axis=0), np.cov(mean_shift.T)\n",
    "theta[1], sigma[1] = np.mean(cov_shift, axis=0), np.cov(cov_shift.T)\n",
    "theta[2], sigma[2] = np.mean(both_shift, axis=0), np.cov(both_shift.T)"
   ]
  },
  {
   "cell_type": "code",
   "execution_count": 5,
   "id": "4a983835",
   "metadata": {},
   "outputs": [],
   "source": [
    "# Train a classifier\n",
    "X_train, X_test, y_train, y_test = train_test_split(features[0], labels[0], test_size=0.1, random_state=42)\n",
    "\n",
    "# Train and get theta\n",
    "clf, coef = logistic_classifier(X_train, y_train)\n",
    "\n",
    "yhat = clf.predict(X_test)\n",
    "X_recourse = X_test[yhat == 0]"
   ]
  },
  {
   "cell_type": "markdown",
   "id": "6fe1cb22",
   "metadata": {},
   "source": [
    "# Define function"
   ]
  },
  {
   "cell_type": "code",
   "execution_count": 13,
   "id": "479c80a8",
   "metadata": {},
   "outputs": [],
   "source": [
    "# Optimization module\n",
    "delta_l = [1e-3, 0.02, 0.04, 0.06, 0.08, 0.1, 0.12, 0.14, 0.16, 0.18, 0.2]\n",
    "k = 3\n",
    "dim = 2\n",
    "rho = np.array([0, 0, 0])\n",
    "lmbda = 0.7\n",
    "zeta = 1\n",
    "\n",
    "features_shift, labels_shift = sd.synthesize_modes_data(1000, [0.1, 0.8, 0.1], [0.3, 0.3])\n",
    "clf_shift = [logistic_classifier(features_shift[i + 1], labels_shift[i + 1])[0] for i in range(len(features_shift) - 1)]\n",
    "\n",
    "def recourse_cost(X_recourse):\n",
    "    \n",
    "    cost_dirrac, cost_roar = [], []\n",
    "    val_dirrac, val_roar = [], []\n",
    "    \n",
    "    # delta_l = [1e-3, 7e-3, 8e-3, 0.05, 0.1]\n",
    "    delta_l = [1e-3, 5e-3, 0.0065, 7e-3, 0.0075, 0.0076, 1e-2, 0.1, 0.3, 0.5, 0.7, 0.9, 1, 2.5, 5]\n",
    "    dirrac_l = [DRRA(delta_l[i], k, dim, p, theta, sigma, rho, lmbda, zeta, dist_type='l1') for i in range(len(delta_l))]\n",
    "    \n",
    "    iter_l = [20, 21, 22, 21, 24, 25, 26, 27, 28, 29, 30, 31, 32, 33, 34]\n",
    "    roar_l = [ROAR(X_recourse, all_coef[0], np.zeros(1), 1e-3, 0.1, delta_max=0.1, alpha=0.1, dist_type=1, max_iter=iter_l[i]) for i in range(len(iter_l))]\n",
    "    \n",
    "    for i in range(len(delta_l)):\n",
    "        all_val_dirrac = np.zeros(len(features_shift) - 1)\n",
    "        all_val_roar = np.zeros(len(features_shift) - 1)\n",
    "        \n",
    "        x_drra = dirrac_l[i].fit_data(X_recourse)\n",
    "        x_roar = roar_l[i].fit_data(roar_l[i].data)\n",
    "        \n",
    "        l1 = np.mean(np.linalg.norm((x_drra - X_recourse), ord=1, axis=1))\n",
    "        l2 = np.mean(np.linalg.norm((x_roar - X_recourse), ord=1, axis=1))\n",
    "\n",
    "        cost_dirrac.append(l1)\n",
    "        cost_roar.append(l2)\n",
    "    \n",
    "        for j in range(len(features_shift) - 1):\n",
    "            # Train and get theta\n",
    "            all_val_dirrac[j] = np.mean(clf_shift[j].predict(x_drra))\n",
    "            all_val_roar[j] = np.mean(clf_shift[j].predict(x_roar))\n",
    "        \n",
    "        val_dirrac.append(np.mean(all_val_dirrac))\n",
    "        val_roar.append(np.mean(all_val_roar))\n",
    "    \n",
    "    return cost_dirrac, val_dirrac, cost_roar, val_roar"
   ]
  },
  {
   "cell_type": "code",
   "execution_count": 14,
   "id": "0d0443cb",
   "metadata": {},
   "outputs": [
    {
     "name": "stderr",
     "output_type": "stream",
     "text": [
      "100%|██████████████████████████████████████████████████████████████████████████████████████████████████████████████████████████████████████████████████████████████████████| 20/20 [00:21<00:00,  1.07s/it]\n",
      "100%|█████████████████████████████████████████████████████████████████████████████████████████████████████████████████████████████████████████████████████████████████████| 20/20 [00:00<00:00, 205.38it/s]\n",
      "100%|██████████████████████████████████████████████████████████████████████████████████████████████████████████████████████████████████████████████████████████████████████| 20/20 [00:56<00:00,  2.83s/it]\n",
      "100%|█████████████████████████████████████████████████████████████████████████████████████████████████████████████████████████████████████████████████████████████████████| 20/20 [00:00<00:00, 202.31it/s]\n",
      "100%|██████████████████████████████████████████████████████████████████████████████████████████████████████████████████████████████████████████████████████████████████████| 20/20 [00:47<00:00,  2.37s/it]\n",
      "100%|█████████████████████████████████████████████████████████████████████████████████████████████████████████████████████████████████████████████████████████████████████| 20/20 [00:00<00:00, 191.29it/s]\n",
      "100%|██████████████████████████████████████████████████████████████████████████████████████████████████████████████████████████████████████████████████████████████████████| 20/20 [00:45<00:00,  2.28s/it]\n",
      "100%|█████████████████████████████████████████████████████████████████████████████████████████████████████████████████████████████████████████████████████████████████████| 20/20 [00:00<00:00, 208.72it/s]\n",
      "100%|██████████████████████████████████████████████████████████████████████████████████████████████████████████████████████████████████████████████████████████████████████| 20/20 [00:49<00:00,  2.47s/it]\n",
      "100%|█████████████████████████████████████████████████████████████████████████████████████████████████████████████████████████████████████████████████████████████████████| 20/20 [00:00<00:00, 188.62it/s]\n",
      "100%|██████████████████████████████████████████████████████████████████████████████████████████████████████████████████████████████████████████████████████████████████████| 20/20 [00:47<00:00,  2.35s/it]\n",
      "100%|█████████████████████████████████████████████████████████████████████████████████████████████████████████████████████████████████████████████████████████████████████| 20/20 [00:00<00:00, 166.73it/s]\n",
      "100%|██████████████████████████████████████████████████████████████████████████████████████████████████████████████████████████████████████████████████████████████████████| 20/20 [00:42<00:00,  2.14s/it]\n",
      "100%|█████████████████████████████████████████████████████████████████████████████████████████████████████████████████████████████████████████████████████████████████████| 20/20 [00:00<00:00, 172.29it/s]\n",
      "100%|██████████████████████████████████████████████████████████████████████████████████████████████████████████████████████████████████████████████████████████████████████| 20/20 [00:20<00:00,  1.04s/it]\n",
      "100%|█████████████████████████████████████████████████████████████████████████████████████████████████████████████████████████████████████████████████████████████████████| 20/20 [00:00<00:00, 163.26it/s]\n",
      "100%|██████████████████████████████████████████████████████████████████████████████████████████████████████████████████████████████████████████████████████████████████████| 20/20 [00:19<00:00,  1.04it/s]\n",
      "100%|█████████████████████████████████████████████████████████████████████████████████████████████████████████████████████████████████████████████████████████████████████| 20/20 [00:00<00:00, 157.87it/s]\n",
      "100%|██████████████████████████████████████████████████████████████████████████████████████████████████████████████████████████████████████████████████████████████████████| 20/20 [00:20<00:00,  1.05s/it]\n",
      "100%|█████████████████████████████████████████████████████████████████████████████████████████████████████████████████████████████████████████████████████████████████████| 20/20 [00:00<00:00, 159.93it/s]\n",
      "100%|██████████████████████████████████████████████████████████████████████████████████████████████████████████████████████████████████████████████████████████████████████| 20/20 [00:20<00:00,  1.00s/it]\n",
      "100%|█████████████████████████████████████████████████████████████████████████████████████████████████████████████████████████████████████████████████████████████████████| 20/20 [00:00<00:00, 151.12it/s]\n",
      "100%|██████████████████████████████████████████████████████████████████████████████████████████████████████████████████████████████████████████████████████████████████████| 20/20 [00:21<00:00,  1.08s/it]\n",
      "100%|█████████████████████████████████████████████████████████████████████████████████████████████████████████████████████████████████████████████████████████████████████| 20/20 [00:00<00:00, 143.84it/s]\n",
      "100%|██████████████████████████████████████████████████████████████████████████████████████████████████████████████████████████████████████████████████████████████████████| 20/20 [00:20<00:00,  1.05s/it]\n",
      "100%|█████████████████████████████████████████████████████████████████████████████████████████████████████████████████████████████████████████████████████████████████████| 20/20 [00:00<00:00, 144.74it/s]\n",
      "100%|██████████████████████████████████████████████████████████████████████████████████████████████████████████████████████████████████████████████████████████████████████| 20/20 [00:21<00:00,  1.09s/it]\n",
      "100%|█████████████████████████████████████████████████████████████████████████████████████████████████████████████████████████████████████████████████████████████████████| 20/20 [00:00<00:00, 137.81it/s]\n",
      "100%|██████████████████████████████████████████████████████████████████████████████████████████████████████████████████████████████████████████████████████████████████████| 20/20 [00:22<00:00,  1.12s/it]\n",
      "100%|█████████████████████████████████████████████████████████████████████████████████████████████████████████████████████████████████████████████████████████████████████| 20/20 [00:00<00:00, 123.11it/s]\n"
     ]
    }
   ],
   "source": [
    "cost_dirrac, val_dirrac, cost_roar, val_roar = recourse_cost(X_recourse[:20])"
   ]
  },
  {
   "cell_type": "code",
   "execution_count": 16,
   "id": "1a336003",
   "metadata": {},
   "outputs": [],
   "source": [
    "# Matplotlib config\n",
    "SMALL_SIZE = 8\n",
    "MEDIUM_SIZE = 12\n",
    "BIGGER_SIZE = 18\n",
    "\n",
    "plt.rc('font', size=BIGGER_SIZE + 2)          # controls default text sizes\n",
    "plt.rc('axes', titlesize=BIGGER_SIZE)     # fontsize of the axes title\n",
    "plt.rc('axes', labelsize=BIGGER_SIZE - 4)    # fontsize of the x and y labels\n",
    "plt.rc('xtick', labelsize=MEDIUM_SIZE)    # fontsize of the tick labels\n",
    "plt.rc('ytick', labelsize=MEDIUM_SIZE)    # fontsize of the tick labels\n",
    "plt.rc('legend', fontsize=BIGGER_SIZE)    # legend fontsize"
   ]
  },
  {
   "cell_type": "code",
   "execution_count": 29,
   "id": "fb36d1d7",
   "metadata": {},
   "outputs": [
    {
     "data": {
      "image/png": "[encoded data removed]",
      "text/plain": [
       "<Figure size 432x288 with 1 Axes>"
      ]
     },
     "metadata": {
      "needs_background": "light"
     },
     "output_type": "display_data"
    }
   ],
   "source": [
    "fig, ax = plt.subplots()\n",
    "ax.plot(cost_dirrac[:10], val_dirrac[:10], marker='o',label='DiRRAc', alpha=1, linewidth=3)\n",
    "ax.plot(cost_roar[4:12], val_roar[4:12], marker='^', label='ROAR', alpha=1, linewidth=3)\n",
    "\n",
    "ax.set(xlabel='$l_{1}$ cost', ylabel='$M_{2}$ validity')\n",
    "ax.grid()\n",
    "ax.legend(loc='lower right', frameon=False)\n",
    "ax.set_xlim([6.0, 7.1])\n",
    "ax.set_ylim([0.5, 1.01])\n",
    "# ax.set_xscale('log')\n",
    "\n",
    "\n",
    "plt.savefig('result/figure9/cost_robust_dirrac_roar.pdf', dpi=400, transparent=True)\n",
    "plt.show()"
   ]
  }
 ],
 "metadata": {
  "kernelspec": {
   "display_name": "Python 3 (ipykernel)",
   "language": "python",
   "name": "python3"
  },
  "language_info": {
   "codemirror_mode": {
    "name": "ipython",
    "version": 3
   },
   "file_extension": ".py",
   "mimetype": "text/x-python",
   "name": "python",
   "nbconvert_exporter": "python",
   "pygments_lexer": "ipython3",
   "version": "3.7.11"
  }
 },
 "nbformat": 4,
 "nbformat_minor": 5
}
