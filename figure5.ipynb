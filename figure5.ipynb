{
 "cells": [
  {
   "cell_type": "markdown",
   "id": "72a27a16",
   "metadata": {},
   "source": [
    "# Import libraries"
   ]
  },
  {
   "cell_type": "code",
   "execution_count": 1,
   "id": "f031f752",
   "metadata": {},
   "outputs": [],
   "source": [
    "import os\n",
    "import numpy as np\n",
    "import matplotlib.pyplot as plt\n",
    "\n",
    "from dirrac.data.synthetic_data import DataSynthesizer\n",
    "from dirrac.classifier.logistic import logistic_classifier"
   ]
  },
  {
   "cell_type": "code",
   "execution_count": 2,
   "id": "209ea109",
   "metadata": {},
   "outputs": [],
   "source": [
    "# Matplotlib config\n",
    "SMALL_SIZE = 8\n",
    "MEDIUM_SIZE = 10\n",
    "BIGGER_SIZE = 13\n",
    "\n",
    "plt.rc('font', size=BIGGER_SIZE)          # controls default text sizes\n",
    "plt.rc('axes', titlesize=BIGGER_SIZE)     # fontsize of the axes title\n",
    "plt.rc('axes', labelsize=BIGGER_SIZE)    # fontsize of the x and y labels\n",
    "plt.rc('xtick', labelsize=BIGGER_SIZE)    # fontsize of the tick labels\n",
    "plt.rc('ytick', labelsize=BIGGER_SIZE)    # fontsize of the tick labels\n",
    "plt.rc('legend', fontsize=MEDIUM_SIZE)    # legend fontsize"
   ]
  },
  {
   "cell_type": "markdown",
   "id": "cb6a6b67",
   "metadata": {},
   "source": [
    "# Synthesize data and train classifiers"
   ]
  },
  {
   "cell_type": "code",
   "execution_count": 3,
   "id": "b8c0ebac",
   "metadata": {},
   "outputs": [],
   "source": [
    "# Original data parameters\n",
    "mean_0 = np.ones(2) * (-3)\n",
    "mean_1 = np.ones(2) * 3\n",
    "cov_0 = cov_1 = np.identity(2)\n",
    "n = 1000 # 1000 samples, 500 each class\n",
    "\n",
    "\"\"\" Here we synthesize original data, \n",
    "and 100 data distribution shifts \n",
    "with 33 mean shifts, 33 covariance shifts and 34 mean and covariance shift\n",
    "Shifted parameters \\alpha=[1.5, 0] and \\beta=3 \"\"\"\n",
    "sd = DataSynthesizer(mean_0, cov_0, mean_1, cov_1, n)\n",
    "features, labels = sd.synthesize_modes_data(100, [0.33, 0.33, 0.34], [0.1, 0.1], same=True)"
   ]
  },
  {
   "cell_type": "code",
   "execution_count": 4,
   "id": "c5b9e79a",
   "metadata": {},
   "outputs": [],
   "source": [
    "# Train 101 classifiers, the first is on the original dataset and the others are on shifted data\n",
    "all_coef = np.zeros((101, 2))\n",
    "for i in range(101):\n",
    "    coef = logistic_classifier(features[i], labels[i])[1].T\n",
    "    all_coef[i] = np.squeeze(coef)\n",
    "\n",
    "# Get theta with 3 types of distribution shifts\n",
    "mean_shift = all_coef[1:34]\n",
    "cov_shift = all_coef[34:67]\n",
    "both_shift = all_coef[67:101]"
   ]
  },
  {
   "cell_type": "code",
   "execution_count": 5,
   "id": "4a983835",
   "metadata": {},
   "outputs": [
    {
     "data": {
      "image/png": "[encoded data removed]",
      "text/plain": [
       "<Figure size 432x288 with 1 Axes>"
      ]
     },
     "metadata": {
      "needs_background": "light"
     },
     "output_type": "display_data"
    }
   ],
   "source": [
    "# Plot\n",
    "fig, ax = plt.subplots()\n",
    "ax.scatter(all_coef[0][0], all_coef[0][1], s=100, marker='*', label = 'Original')\n",
    "ax.scatter(mean_shift[:, 0], mean_shift[:, 1], marker='o', label = 'Mean shift')\n",
    "ax.scatter(cov_shift[:, 0], cov_shift[:, 1], marker='o', label = 'Cov shift')\n",
    "ax.scatter(both_shift[:, 0], both_shift[:, 1], marker='o', label = 'Both shift')\n",
    "\n",
    "ax.set(xlabel='$\\\\theta_{0}$', ylabel='$\\\\theta_{1}$')\n",
    "ax.legend(loc='upper right', frameon=False)\n",
    "\n",
    "ax.set_xlim(0.5, 2)\n",
    "ax.set_ylim(1, 2.75)\n",
    "\n",
    "if not os.path.exists('result/figure6/'):\n",
    "    os.makedirs('result/figure6/')\n",
    "plt.savefig('result/figure6/classifiers.pdf', dpi=500, transparent=True)\n",
    "plt.show()"
   ]
  }
 ],
 "metadata": {
  "kernelspec": {
   "display_name": "Python 3 (ipykernel)",
   "language": "python",
   "name": "python3"
  },
  "language_info": {
   "codemirror_mode": {
    "name": "ipython",
    "version": 3
   },
   "file_extension": ".py",
   "mimetype": "text/x-python",
   "name": "python",
   "nbconvert_exporter": "python",
   "pygments_lexer": "ipython3",
   "version": "3.7.11"
  }
 },
 "nbformat": 4,
 "nbformat_minor": 5
}
