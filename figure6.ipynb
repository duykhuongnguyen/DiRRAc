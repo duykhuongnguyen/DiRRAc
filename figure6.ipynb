{
 "cells": [
  {
   "cell_type": "markdown",
   "id": "72a27a16",
   "metadata": {},
   "source": [
    "# Import libraries"
   ]
  },
  {
   "cell_type": "code",
   "execution_count": 1,
   "id": "f031f752",
   "metadata": {},
   "outputs": [
    {
     "name": "stdout",
     "output_type": "stream",
     "text": [
      "[ENV WARNING] deactivate virtualenv to allow for testing Actionable Recourse\n"
     ]
    }
   ],
   "source": [
    "import os\n",
    "import numpy as np\n",
    "import matplotlib.pyplot as plt\n",
    "from sklearn.model_selection import train_test_split\n",
    "\n",
    "from dirrac.data.synthetic_data import DataSynthesizer\n",
    "from dirrac.classifier.logistic import logistic_classifier\n",
    "from dirrac.optim.opt import Optimization\n",
    "from utils import cal_validity"
   ]
  },
  {
   "cell_type": "code",
   "execution_count": 2,
   "id": "af770047",
   "metadata": {},
   "outputs": [],
   "source": [
    "if not os.path.exists('result/figure6/'):\n",
    "    os.makedirs('result/figure6/')"
   ]
  },
  {
   "cell_type": "markdown",
   "id": "cb6a6b67",
   "metadata": {},
   "source": [
    "# Synthesize data and train original classifier"
   ]
  },
  {
   "cell_type": "code",
   "execution_count": 3,
   "id": "b8c0ebac",
   "metadata": {},
   "outputs": [],
   "source": [
    "# Synthesize data\n",
    "mean_0 = np.ones(2) * (-3)\n",
    "mean_1 = np.ones(2) * 3\n",
    "cov_0 = cov_1 = np.identity(2)\n",
    "n = 1000\n",
    "p = [0.4, 0.2, 0.4]\n",
    "\n",
    "sd = DataSynthesizer(mean_0, cov_0, mean_1, cov_1, n)\n",
    "features, labels = sd.synthesize_modes_data(100, [0.4, 0.2, 0.4], [0.1, 0.1])"
   ]
  },
  {
   "cell_type": "code",
   "execution_count": 4,
   "id": "c5b9e79a",
   "metadata": {},
   "outputs": [],
   "source": [
    "# Train\n",
    "all_coef = np.zeros((101, 2))\n",
    "for i in range(101):\n",
    "    coef = logistic_classifier(features[i], labels[i])[1].T\n",
    "    all_coef[i] = np.squeeze(coef)\n",
    "\n",
    "# Get theta\n",
    "mean_shift = all_coef[1:41]\n",
    "cov_shift = all_coef[41:61]\n",
    "both_shift = all_coef[61:101]\n",
    "\n",
    "theta = np.zeros((3, 2))\n",
    "sigma = np.zeros((3, 2, 2))\n",
    "\n",
    "theta[0], sigma[0] = np.mean(mean_shift, axis=0), np.cov(mean_shift.T)\n",
    "theta[1], sigma[1] = np.mean(cov_shift, axis=0), np.cov(cov_shift.T)\n",
    "theta[2], sigma[2] = np.mean(both_shift, axis=0), np.cov(both_shift.T)"
   ]
  },
  {
   "cell_type": "code",
   "execution_count": 5,
   "id": "4a983835",
   "metadata": {},
   "outputs": [],
   "source": [
    "# Train a classifier\n",
    "X_train, X_test, y_train, y_test = train_test_split(features[0], labels[0], test_size=0.1, random_state=42)\n",
    "\n",
    "# Train and get theta\n",
    "clf, coef = logistic_classifier(X_train, y_train)\n",
    "\n",
    "yhat = clf.predict(X_test)\n",
    "X_recourse = X_test[yhat == 0]"
   ]
  },
  {
   "cell_type": "markdown",
   "id": "6fe1cb22",
   "metadata": {},
   "source": [
    "# Define function"
   ]
  },
  {
   "cell_type": "code",
   "execution_count": 6,
   "id": "479c80a8",
   "metadata": {},
   "outputs": [],
   "source": [
    "# Optimization module\n",
    "delta_l = [1e-3, 0.02, 0.04, 0.06, 0.08, 0.1, 0.12, 0.14, 0.16, 0.18, 0.2]\n",
    "k = 3\n",
    "dim = 2\n",
    "rho = np.array([0, 0, 0])\n",
    "lmbda = 0.7\n",
    "zeta = 1\n",
    "\n",
    "features_shift, labels_shift = sd.synthesize_modes_data(1000, [0.1, 0.8, 0.1], [0.2, 0.2])\n",
    "clf_shift = [logistic_classifier(features_shift[i + 1], labels_shift[i + 1])[0] for i in range(len(features_shift) - 1)]\n",
    "\n",
    "def recourse_delta_param(delta, opt):\n",
    "    all_x_opt = np.zeros((len(X_recourse), 2))\n",
    "    for i in range(len(X_recourse)):\n",
    "        out = opt.recourse_action(X_recourse[i], 10)\n",
    "        f_opt, x_opt = out\n",
    "        all_x_opt[i] = x_opt\n",
    "        \n",
    "    all_val = np.zeros(len(features_shift) - 1)\n",
    "    for i in range(len(features_shift) - 1):\n",
    "        # Train and get theta\n",
    "        yhat = clf_shift[i].predict(all_x_opt)\n",
    "        all_val[i] = cal_validity(yhat)\n",
    "    \n",
    "    return np.mean(all_val), np.std(all_val)"
   ]
  },
  {
   "cell_type": "markdown",
   "id": "7d0e862c",
   "metadata": {},
   "source": [
    "# Non-parametric mixture"
   ]
  },
  {
   "cell_type": "code",
   "execution_count": 7,
   "id": "31ae521d",
   "metadata": {},
   "outputs": [
    {
     "name": "stdout",
     "output_type": "stream",
     "text": [
      "Start delta 0.001\n",
      "Start delta 0.02\n",
      "Start delta 0.04\n",
      "Start delta 0.06\n",
      "Start delta 0.08\n",
      "Start delta 0.1\n",
      "Start delta 0.12\n",
      "Start delta 0.14\n",
      "Start delta 0.16\n",
      "Start delta 0.18\n",
      "Start delta 0.2\n"
     ]
    }
   ],
   "source": [
    "orig_model_mixture_val, orig_model_mixture_std = np.zeros(len(delta_l)), np.zeros(len(delta_l))\n",
    "for i in range(len(delta_l)):\n",
    "    print(f\"Start delta {delta_l[i]}\")\n",
    "    opt = Optimization(delta_l[i], k, dim, p, theta, sigma, rho, lmbda, zeta, gaussian=False)\n",
    "    orig_model_mixture_val[i], orig_model_mixture_std[i] = recourse_delta_param(delta_l[i], opt)"
   ]
  },
  {
   "cell_type": "code",
   "execution_count": 8,
   "id": "8d217a3a",
   "metadata": {},
   "outputs": [
    {
     "data": {
      "text/plain": [
       "(array([0.7848125 , 0.86033333, 0.90664583, 0.93025   , 0.94539583,\n",
       "        0.95714583, 0.96641667, 0.9745    , 0.97966667, 0.98383333,\n",
       "        0.98720833]),\n",
       " array([0.23990265, 0.17797616, 0.12833002, 0.10467148, 0.08856338,\n",
       "        0.07738048, 0.06713202, 0.0566568 , 0.04890034, 0.04228614,\n",
       "        0.03667498]))"
      ]
     },
     "execution_count": 8,
     "metadata": {},
     "output_type": "execute_result"
    }
   ],
   "source": [
    "orig_model_mixture_val, orig_model_mixture_std"
   ]
  },
  {
   "cell_type": "markdown",
   "id": "14cad087",
   "metadata": {},
   "source": [
    "# Non-parametric mixture worst case"
   ]
  },
  {
   "cell_type": "markdown",
   "id": "a5958fcd",
   "metadata": {},
   "source": [
    "# Gaussian mixture"
   ]
  },
  {
   "cell_type": "code",
   "execution_count": 9,
   "id": "41752961",
   "metadata": {},
   "outputs": [
    {
     "name": "stdout",
     "output_type": "stream",
     "text": [
      "Start delta 0.001\n",
      "Start delta 0.02\n",
      "Start delta 0.04\n",
      "Start delta 0.06\n",
      "Start delta 0.08\n",
      "Start delta 0.1\n",
      "Start delta 0.12\n",
      "Start delta 0.14\n",
      "Start delta 0.16\n",
      "Start delta 0.18\n",
      "Start delta 0.2\n"
     ]
    }
   ],
   "source": [
    "gaussian_mixture_val, gaussian_mixture_std = np.zeros(len(delta_l)), np.zeros(len(delta_l))\n",
    "for i in range(len(delta_l)):\n",
    "    print(f\"Start delta {delta_l[i]}\")\n",
    "    opt = Optimization(delta_l[i], k, dim, p, theta, sigma, rho, lmbda, zeta, gaussian=True, model_type='mixture')\n",
    "    gaussian_mixture_val[i], gaussian_mixture_std[i] = recourse_delta_param(delta_l[i], opt)"
   ]
  },
  {
   "cell_type": "code",
   "execution_count": 10,
   "id": "b527b814",
   "metadata": {},
   "outputs": [
    {
     "data": {
      "text/plain": [
       "(array([0.78483333, 0.85895833, 0.9058125 , 0.927     , 0.94147917,\n",
       "        0.952375  , 0.96125   , 0.9680625 , 0.97358333, 0.97785417,\n",
       "        0.98210417]),\n",
       " array([0.23988063, 0.17943911, 0.12934054, 0.1097345 , 0.09524848,\n",
       "        0.08653286, 0.07791889, 0.07123937, 0.06391515, 0.05758836,\n",
       "        0.05045418]))"
      ]
     },
     "execution_count": 10,
     "metadata": {},
     "output_type": "execute_result"
    }
   ],
   "source": [
    "gaussian_mixture_val, gaussian_mixture_std"
   ]
  },
  {
   "cell_type": "markdown",
   "id": "2314a80d",
   "metadata": {},
   "source": [
    "# Gaussian worst case"
   ]
  },
  {
   "cell_type": "markdown",
   "id": "8a212d3c",
   "metadata": {},
   "source": [
    "# Visualization"
   ]
  },
  {
   "cell_type": "code",
   "execution_count": 11,
   "id": "a770a7d5",
   "metadata": {},
   "outputs": [
    {
     "data": {
      "image/png": "[encoded data removed]",
      "text/plain": [
       "<Figure size 432x288 with 1 Axes>"
      ]
     },
     "metadata": {
      "needs_background": "light"
     },
     "output_type": "display_data"
    }
   ],
   "source": [
    "fig, ax = plt.subplots()\n",
    "ax.errorbar(delta_l, orig_model_mixture_val, orig_model_mixture_std, label='DiRAAc')\n",
    "\n",
    "ax.set(xlabel='$\\delta_{add}$', ylabel='validity')\n",
    "ax.grid()\n",
    "ax.legend(loc='lower right', frameon=False)\n",
    "ax.set_ylim([0, 1])\n",
    "\n",
    "plt.savefig('result/figure6/delta_add_DiRAAc-NM.pdf', dpi=1000, transparent=True)\n",
    "plt.show()"
   ]
  },
  {
   "cell_type": "code",
   "execution_count": 12,
   "id": "7c162e29",
   "metadata": {},
   "outputs": [
    {
     "data": {
      "image/png": "[encoded data removed]",
      "text/plain": [
       "<Figure size 432x288 with 1 Axes>"
      ]
     },
     "metadata": {
      "needs_background": "light"
     },
     "output_type": "display_data"
    }
   ],
   "source": [
    "fig, ax = plt.subplots()\n",
    "ax.errorbar(delta_l, gaussian_mixture_val, gaussian_mixture_std, label='Gaussian DiRAAc')\n",
    "\n",
    "ax.set(xlabel='$\\delta_{add}$', ylabel='validity')\n",
    "ax.grid()\n",
    "ax.legend(loc='lower right', frameon=False)\n",
    "ax.set_ylim([0, 1])\n",
    "\n",
    "plt.savefig('result/figure6/delta_add_DiRAAc-GM.pdf', transparent=True)\n",
    "plt.show()"
   ]
  }
 ],
 "metadata": {
  "kernelspec": {
   "display_name": "Python 3 (ipykernel)",
   "language": "python",
   "name": "python3"
  },
  "language_info": {
   "codemirror_mode": {
    "name": "ipython",
    "version": 3
   },
   "file_extension": ".py",
   "mimetype": "text/x-python",
   "name": "python",
   "nbconvert_exporter": "python",
   "pygments_lexer": "ipython3",
   "version": "3.7.11"
  }
 },
 "nbformat": 4,
 "nbformat_minor": 5
}
