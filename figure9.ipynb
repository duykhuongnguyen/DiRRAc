{
 "cells": [
  {
   "cell_type": "markdown",
   "id": "72a27a16",
   "metadata": {},
   "source": [
    "# Import libraries"
   ]
  },
  {
   "cell_type": "code",
   "execution_count": 16,
   "id": "f031f752",
   "metadata": {},
   "outputs": [],
   "source": [
    "import os\n",
    "import numpy as np\n",
    "import matplotlib.pyplot as plt\n",
    "from sklearn.model_selection import train_test_split\n",
    "\n",
    "from dirrac.data.synthetic_data import DataSynthesizer\n",
    "from dirrac.classifier.logistic import logistic_classifier\n",
    "from dirrac.optim.opt import Optimization\n",
    "from roar.gen_counterfactual import ROAR\n",
    "from dirrac.gen_counterfactual import DRRA\n",
    "from utils import cal_validity"
   ]
  },
  {
   "cell_type": "code",
   "execution_count": 2,
   "id": "af770047",
   "metadata": {},
   "outputs": [],
   "source": [
    "if not os.path.exists('result/figure9/'):\n",
    "    os.makedirs('result/figure9/')"
   ]
  },
  {
   "cell_type": "markdown",
   "id": "cb6a6b67",
   "metadata": {},
   "source": [
    "# Synthesize data and train original classifier"
   ]
  },
  {
   "cell_type": "code",
   "execution_count": 3,
   "id": "b8c0ebac",
   "metadata": {},
   "outputs": [],
   "source": [
    "# Synthesize data\n",
    "mean_0 = np.ones(2) * (-3)\n",
    "mean_1 = np.ones(2) * 3\n",
    "cov_0 = cov_1 = np.identity(2)\n",
    "n = 1000\n",
    "p = [0.4, 0.2, 0.4]\n",
    "\n",
    "sd = DataSynthesizer(mean_0, cov_0, mean_1, cov_1, n)\n",
    "features, labels = sd.synthesize_modes_data(100, [0.4, 0.2, 0.4], [0.1, 0.1])"
   ]
  },
  {
   "cell_type": "code",
   "execution_count": 4,
   "id": "c5b9e79a",
   "metadata": {},
   "outputs": [],
   "source": [
    "# Train\n",
    "all_coef = np.zeros((101, 2))\n",
    "for i in range(101):\n",
    "    coef = logistic_classifier(features[i], labels[i])[1].T\n",
    "    all_coef[i] = np.squeeze(coef)\n",
    "\n",
    "# Get theta\n",
    "mean_shift = all_coef[1:41]\n",
    "cov_shift = all_coef[41:61]\n",
    "both_shift = all_coef[61:101]\n",
    "\n",
    "theta = np.zeros((3, 2))\n",
    "sigma = np.zeros((3, 2, 2))\n",
    "\n",
    "theta[0], sigma[0] = np.mean(mean_shift, axis=0), np.cov(mean_shift.T)\n",
    "theta[1], sigma[1] = np.mean(cov_shift, axis=0), np.cov(cov_shift.T)\n",
    "theta[2], sigma[2] = np.mean(both_shift, axis=0), np.cov(both_shift.T)"
   ]
  },
  {
   "cell_type": "code",
   "execution_count": 5,
   "id": "4a983835",
   "metadata": {},
   "outputs": [],
   "source": [
    "# Train a classifier\n",
    "X_train, X_test, y_train, y_test = train_test_split(features[0], labels[0], test_size=0.1, random_state=42)\n",
    "\n",
    "# Train and get theta\n",
    "clf, coef = logistic_classifier(X_train, y_train)\n",
    "\n",
    "yhat = clf.predict(X_test)\n",
    "X_recourse = X_test[yhat == 0]"
   ]
  },
  {
   "cell_type": "markdown",
   "id": "6fe1cb22",
   "metadata": {},
   "source": [
    "# Define function"
   ]
  },
  {
   "cell_type": "code",
   "execution_count": 98,
   "id": "479c80a8",
   "metadata": {},
   "outputs": [],
   "source": [
    "# Optimization module\n",
    "delta_l = [1e-3, 0.02, 0.04, 0.06, 0.08, 0.1, 0.12, 0.14, 0.16, 0.18, 0.2]\n",
    "k = 3\n",
    "dim = 2\n",
    "rho = np.array([0, 0, 0])\n",
    "lmbda = 0.7\n",
    "zeta = 1\n",
    "\n",
    "features_shift, labels_shift = sd.synthesize_modes_data(1000, [0.1, 0.8, 0.1], [0.2, 0.2])\n",
    "clf_shift = [logistic_classifier(features_shift[i + 1], labels_shift[i + 1])[0] for i in range(len(features_shift) - 1)]\n",
    "\n",
    "def recourse_cost(X_recourse):\n",
    "    \n",
    "    cost_dirrac, cost_roar = [], []\n",
    "    val_dirrac, val_roar = [], []\n",
    "    \n",
    "    # delta_l = [1e-3, 7e-3, 8e-3, 0.05, 0.1]\n",
    "    delta_l = [1e-3, 0.1, 0.5, 1.5, 2.5]\n",
    "    dirrac_l = [DRRA(delta_l[i], k, dim, p, theta, sigma, rho, lmbda, zeta, dist_type='l1') for i in range(len(delta_l))]\n",
    "    \n",
    "    iter_l = [10, 15, 16, 17, 20]\n",
    "    roar_l = [ROAR(X_recourse, all_coef[0], np.zeros(1), 1e-3, 0.1, sigma_max=0.1, alpha=2, dist_type='l1', max_iter=iter_l[i]) for i in range(len(iter_l))]\n",
    "    \n",
    "    for i in range(len(delta_l)):\n",
    "        all_val_dirrac = np.zeros(len(features_shift) - 1)\n",
    "        all_val_roar = np.zeros(len(features_shift) - 1)\n",
    "        \n",
    "        x_drra = dirrac_l[i].fit_data(X_recourse)\n",
    "        x_roar = roar_l[i].fit_data(roar_l[i].data)[:, :-1]\n",
    "        \n",
    "        l1 = np.mean(np.linalg.norm((x_drra - X_recourse), ord=1, axis=1))\n",
    "        l2 = np.mean(np.linalg.norm((x_roar - X_recourse), ord=1, axis=1))\n",
    "\n",
    "        cost_dirrac.append(l1)\n",
    "        cost_roar.append(l2)\n",
    "    \n",
    "        for j in range(len(features_shift) - 1):\n",
    "            # Train and get theta\n",
    "            all_val_dirrac[j] = np.mean(clf_shift[j].predict(x_drra))\n",
    "            all_val_roar[j] = np.mean(clf_shift[j].predict(x_roar))\n",
    "        \n",
    "        val_dirrac.append(np.mean(all_val_dirrac))\n",
    "        val_roar.append(np.mean(all_val_roar))\n",
    "    \n",
    "    return cost_dirrac, val_dirrac, cost_roar, val_roar"
   ]
  },
  {
   "cell_type": "code",
   "execution_count": 99,
   "id": "0d0443cb",
   "metadata": {},
   "outputs": [
    {
     "name": "stderr",
     "output_type": "stream",
     "text": [
      "100%|████████████████████████████████████████████████████████████████████████████████████████████████████████████████████████████████████████████████████████████████████████| 2/2 [00:00<00:00, 17.46it/s]\n",
      "100%|████████████████████████████████████████████████████████████████████████████████████████████████████████████████████████████████████████████████████████████████████████| 2/2 [00:00<00:00, 30.51it/s]\n"
     ]
    },
    {
     "name": "stdout",
     "output_type": "stream",
     "text": [
      "tensor(-3.7922, dtype=torch.float64, grad_fn=<DotBackward>)\n",
      "tensor(-3.4320, dtype=torch.float64, grad_fn=<DotBackward>)\n",
      "tensor(-2.9144, dtype=torch.float64, grad_fn=<DotBackward>)\n",
      "tensor(-2.0639, dtype=torch.float64, grad_fn=<DotBackward>)\n",
      "tensor(-0.3324, dtype=torch.float64, grad_fn=<DotBackward>)\n",
      "tensor(2.4744, dtype=torch.float64, grad_fn=<DotBackward>)\n",
      "tensor(2.5397, dtype=torch.float64, grad_fn=<DotBackward>)\n",
      "tensor(2.5966, dtype=torch.float64, grad_fn=<DotBackward>)\n",
      "tensor(2.6468, dtype=torch.float64, grad_fn=<DotBackward>)\n",
      "tensor(2.6918, dtype=torch.float64, grad_fn=<DotBackward>)\n",
      "tensor(-5.2557, dtype=torch.float64, grad_fn=<DotBackward>)\n",
      "tensor(-5.1822, dtype=torch.float64, grad_fn=<DotBackward>)\n",
      "tensor(-5.1024, dtype=torch.float64, grad_fn=<DotBackward>)\n",
      "tensor(-5.0150, dtype=torch.float64, grad_fn=<DotBackward>)\n",
      "tensor(-4.9187, dtype=torch.float64, grad_fn=<DotBackward>)\n",
      "tensor(-4.8114, dtype=torch.float64, grad_fn=<DotBackward>)\n",
      "tensor(-4.6907, dtype=torch.float64, grad_fn=<DotBackward>)\n",
      "tensor(-4.5531, dtype=torch.float64, grad_fn=<DotBackward>)\n",
      "tensor(-4.3932, dtype=torch.float64, grad_fn=<DotBackward>)\n",
      "tensor(-4.2035, dtype=torch.float64, grad_fn=<DotBackward>)\n"
     ]
    },
    {
     "name": "stderr",
     "output_type": "stream",
     "text": [
      "100%|████████████████████████████████████████████████████████████████████████████████████████████████████████████████████████████████████████████████████████████████████████| 2/2 [00:01<00:00,  1.39it/s]\n",
      "100%|████████████████████████████████████████████████████████████████████████████████████████████████████████████████████████████████████████████████████████████████████████| 2/2 [00:00<00:00, 22.99it/s]\n"
     ]
    },
    {
     "name": "stdout",
     "output_type": "stream",
     "text": [
      "tensor(-3.7922, dtype=torch.float64, grad_fn=<DotBackward>)\n",
      "tensor(-3.4320, dtype=torch.float64, grad_fn=<DotBackward>)\n",
      "tensor(-2.9144, dtype=torch.float64, grad_fn=<DotBackward>)\n",
      "tensor(-2.0639, dtype=torch.float64, grad_fn=<DotBackward>)\n",
      "tensor(-0.3324, dtype=torch.float64, grad_fn=<DotBackward>)\n",
      "tensor(2.4744, dtype=torch.float64, grad_fn=<DotBackward>)\n",
      "tensor(2.5397, dtype=torch.float64, grad_fn=<DotBackward>)\n",
      "tensor(2.5966, dtype=torch.float64, grad_fn=<DotBackward>)\n",
      "tensor(2.6468, dtype=torch.float64, grad_fn=<DotBackward>)\n",
      "tensor(2.6918, dtype=torch.float64, grad_fn=<DotBackward>)\n",
      "tensor(2.7324, dtype=torch.float64, grad_fn=<DotBackward>)\n",
      "tensor(2.7695, dtype=torch.float64, grad_fn=<DotBackward>)\n",
      "tensor(2.8034, dtype=torch.float64, grad_fn=<DotBackward>)\n",
      "tensor(2.8348, dtype=torch.float64, grad_fn=<DotBackward>)\n",
      "tensor(2.8640, dtype=torch.float64, grad_fn=<DotBackward>)\n",
      "tensor(-5.2557, dtype=torch.float64, grad_fn=<DotBackward>)\n",
      "tensor(-5.1822, dtype=torch.float64, grad_fn=<DotBackward>)\n",
      "tensor(-5.1024, dtype=torch.float64, grad_fn=<DotBackward>)\n",
      "tensor(-5.0150, dtype=torch.float64, grad_fn=<DotBackward>)\n",
      "tensor(-4.9187, dtype=torch.float64, grad_fn=<DotBackward>)\n",
      "tensor(-4.8114, dtype=torch.float64, grad_fn=<DotBackward>)\n",
      "tensor(-4.6907, dtype=torch.float64, grad_fn=<DotBackward>)\n",
      "tensor(-4.5531, dtype=torch.float64, grad_fn=<DotBackward>)\n",
      "tensor(-4.3932, dtype=torch.float64, grad_fn=<DotBackward>)\n",
      "tensor(-4.2035, dtype=torch.float64, grad_fn=<DotBackward>)\n",
      "tensor(-3.9714, dtype=torch.float64, grad_fn=<DotBackward>)\n",
      "tensor(-3.6756, dtype=torch.float64, grad_fn=<DotBackward>)\n",
      "tensor(-3.2749, dtype=torch.float64, grad_fn=<DotBackward>)\n",
      "tensor(-2.6778, dtype=torch.float64, grad_fn=<DotBackward>)\n",
      "tensor(-1.6354, dtype=torch.float64, grad_fn=<DotBackward>)\n"
     ]
    },
    {
     "name": "stderr",
     "output_type": "stream",
     "text": [
      "100%|████████████████████████████████████████████████████████████████████████████████████████████████████████████████████████████████████████████████████████████████████████| 2/2 [00:01<00:00,  1.57it/s]\n",
      "100%|████████████████████████████████████████████████████████████████████████████████████████████████████████████████████████████████████████████████████████████████████████| 2/2 [00:00<00:00, 17.00it/s]\n"
     ]
    },
    {
     "name": "stdout",
     "output_type": "stream",
     "text": [
      "tensor(-3.7922, dtype=torch.float64, grad_fn=<DotBackward>)\n",
      "tensor(-3.4320, dtype=torch.float64, grad_fn=<DotBackward>)\n",
      "tensor(-2.9144, dtype=torch.float64, grad_fn=<DotBackward>)\n",
      "tensor(-2.0639, dtype=torch.float64, grad_fn=<DotBackward>)\n",
      "tensor(-0.3324, dtype=torch.float64, grad_fn=<DotBackward>)\n",
      "tensor(2.4744, dtype=torch.float64, grad_fn=<DotBackward>)\n",
      "tensor(2.5397, dtype=torch.float64, grad_fn=<DotBackward>)\n",
      "tensor(2.5966, dtype=torch.float64, grad_fn=<DotBackward>)\n",
      "tensor(2.6468, dtype=torch.float64, grad_fn=<DotBackward>)\n",
      "tensor(2.6918, dtype=torch.float64, grad_fn=<DotBackward>)\n",
      "tensor(2.7324, dtype=torch.float64, grad_fn=<DotBackward>)\n",
      "tensor(2.7695, dtype=torch.float64, grad_fn=<DotBackward>)\n",
      "tensor(2.8034, dtype=torch.float64, grad_fn=<DotBackward>)\n",
      "tensor(2.8348, dtype=torch.float64, grad_fn=<DotBackward>)\n",
      "tensor(2.8640, dtype=torch.float64, grad_fn=<DotBackward>)\n",
      "tensor(2.8911, dtype=torch.float64, grad_fn=<DotBackward>)\n",
      "tensor(-5.2557, dtype=torch.float64, grad_fn=<DotBackward>)\n",
      "tensor(-5.1822, dtype=torch.float64, grad_fn=<DotBackward>)\n",
      "tensor(-5.1024, dtype=torch.float64, grad_fn=<DotBackward>)\n",
      "tensor(-5.0150, dtype=torch.float64, grad_fn=<DotBackward>)\n",
      "tensor(-4.9187, dtype=torch.float64, grad_fn=<DotBackward>)\n",
      "tensor(-4.8114, dtype=torch.float64, grad_fn=<DotBackward>)\n",
      "tensor(-4.6907, dtype=torch.float64, grad_fn=<DotBackward>)\n",
      "tensor(-4.5531, dtype=torch.float64, grad_fn=<DotBackward>)\n",
      "tensor(-4.3932, dtype=torch.float64, grad_fn=<DotBackward>)\n",
      "tensor(-4.2035, dtype=torch.float64, grad_fn=<DotBackward>)\n",
      "tensor(-3.9714, dtype=torch.float64, grad_fn=<DotBackward>)\n",
      "tensor(-3.6756, dtype=torch.float64, grad_fn=<DotBackward>)\n",
      "tensor(-3.2749, dtype=torch.float64, grad_fn=<DotBackward>)\n",
      "tensor(-2.6778, dtype=torch.float64, grad_fn=<DotBackward>)\n",
      "tensor(-1.6354, dtype=torch.float64, grad_fn=<DotBackward>)\n",
      "tensor(0.6314, dtype=torch.float64, grad_fn=<DotBackward>)\n"
     ]
    },
    {
     "name": "stderr",
     "output_type": "stream",
     "text": [
      "100%|████████████████████████████████████████████████████████████████████████████████████████████████████████████████████████████████████████████████████████████████████████| 2/2 [00:04<00:00,  2.31s/it]\n",
      "100%|████████████████████████████████████████████████████████████████████████████████████████████████████████████████████████████████████████████████████████████████████████| 2/2 [00:00<00:00, 20.50it/s]\n"
     ]
    },
    {
     "name": "stdout",
     "output_type": "stream",
     "text": [
      "tensor(-3.7922, dtype=torch.float64, grad_fn=<DotBackward>)\n",
      "tensor(-3.4320, dtype=torch.float64, grad_fn=<DotBackward>)\n",
      "tensor(-2.9144, dtype=torch.float64, grad_fn=<DotBackward>)\n",
      "tensor(-2.0639, dtype=torch.float64, grad_fn=<DotBackward>)\n",
      "tensor(-0.3324, dtype=torch.float64, grad_fn=<DotBackward>)\n",
      "tensor(2.4744, dtype=torch.float64, grad_fn=<DotBackward>)\n",
      "tensor(2.5397, dtype=torch.float64, grad_fn=<DotBackward>)\n",
      "tensor(2.5966, dtype=torch.float64, grad_fn=<DotBackward>)\n",
      "tensor(2.6468, dtype=torch.float64, grad_fn=<DotBackward>)\n",
      "tensor(2.6918, dtype=torch.float64, grad_fn=<DotBackward>)\n",
      "tensor(2.7324, dtype=torch.float64, grad_fn=<DotBackward>)\n",
      "tensor(2.7695, dtype=torch.float64, grad_fn=<DotBackward>)\n",
      "tensor(2.8034, dtype=torch.float64, grad_fn=<DotBackward>)\n",
      "tensor(2.8348, dtype=torch.float64, grad_fn=<DotBackward>)\n",
      "tensor(2.8640, dtype=torch.float64, grad_fn=<DotBackward>)\n",
      "tensor(2.8911, dtype=torch.float64, grad_fn=<DotBackward>)\n",
      "tensor(2.9165, dtype=torch.float64, grad_fn=<DotBackward>)\n",
      "tensor(-5.2557, dtype=torch.float64, grad_fn=<DotBackward>)\n",
      "tensor(-5.1822, dtype=torch.float64, grad_fn=<DotBackward>)\n",
      "tensor(-5.1024, dtype=torch.float64, grad_fn=<DotBackward>)\n",
      "tensor(-5.0150, dtype=torch.float64, grad_fn=<DotBackward>)\n",
      "tensor(-4.9187, dtype=torch.float64, grad_fn=<DotBackward>)\n",
      "tensor(-4.8114, dtype=torch.float64, grad_fn=<DotBackward>)\n",
      "tensor(-4.6907, dtype=torch.float64, grad_fn=<DotBackward>)\n",
      "tensor(-4.5531, dtype=torch.float64, grad_fn=<DotBackward>)\n",
      "tensor(-4.3932, dtype=torch.float64, grad_fn=<DotBackward>)\n",
      "tensor(-4.2035, dtype=torch.float64, grad_fn=<DotBackward>)\n",
      "tensor(-3.9714, dtype=torch.float64, grad_fn=<DotBackward>)\n",
      "tensor(-3.6756, dtype=torch.float64, grad_fn=<DotBackward>)\n",
      "tensor(-3.2749, dtype=torch.float64, grad_fn=<DotBackward>)\n",
      "tensor(-2.6778, dtype=torch.float64, grad_fn=<DotBackward>)\n",
      "tensor(-1.6354, dtype=torch.float64, grad_fn=<DotBackward>)\n",
      "tensor(0.6314, dtype=torch.float64, grad_fn=<DotBackward>)\n",
      "tensor(2.0398, dtype=torch.float64, grad_fn=<DotBackward>)\n"
     ]
    },
    {
     "name": "stderr",
     "output_type": "stream",
     "text": [
      "100%|████████████████████████████████████████████████████████████████████████████████████████████████████████████████████████████████████████████████████████████████████████| 2/2 [00:01<00:00,  1.64it/s]\n",
      "100%|████████████████████████████████████████████████████████████████████████████████████████████████████████████████████████████████████████████████████████████████████████| 2/2 [00:00<00:00, 17.97it/s]\n"
     ]
    },
    {
     "name": "stdout",
     "output_type": "stream",
     "text": [
      "tensor(-3.7922, dtype=torch.float64, grad_fn=<DotBackward>)\n",
      "tensor(-3.4320, dtype=torch.float64, grad_fn=<DotBackward>)\n",
      "tensor(-2.9144, dtype=torch.float64, grad_fn=<DotBackward>)\n",
      "tensor(-2.0639, dtype=torch.float64, grad_fn=<DotBackward>)\n",
      "tensor(-0.3324, dtype=torch.float64, grad_fn=<DotBackward>)\n",
      "tensor(2.4744, dtype=torch.float64, grad_fn=<DotBackward>)\n",
      "tensor(2.5397, dtype=torch.float64, grad_fn=<DotBackward>)\n",
      "tensor(2.5966, dtype=torch.float64, grad_fn=<DotBackward>)\n",
      "tensor(2.6468, dtype=torch.float64, grad_fn=<DotBackward>)\n",
      "tensor(2.6918, dtype=torch.float64, grad_fn=<DotBackward>)\n",
      "tensor(2.7324, dtype=torch.float64, grad_fn=<DotBackward>)\n",
      "tensor(2.7695, dtype=torch.float64, grad_fn=<DotBackward>)\n",
      "tensor(2.8034, dtype=torch.float64, grad_fn=<DotBackward>)\n",
      "tensor(2.8348, dtype=torch.float64, grad_fn=<DotBackward>)\n",
      "tensor(2.8640, dtype=torch.float64, grad_fn=<DotBackward>)\n",
      "tensor(2.8911, dtype=torch.float64, grad_fn=<DotBackward>)\n",
      "tensor(2.9165, dtype=torch.float64, grad_fn=<DotBackward>)\n",
      "tensor(2.9403, dtype=torch.float64, grad_fn=<DotBackward>)\n",
      "tensor(2.9628, dtype=torch.float64, grad_fn=<DotBackward>)\n",
      "tensor(2.9840, dtype=torch.float64, grad_fn=<DotBackward>)\n",
      "tensor(-5.2557, dtype=torch.float64, grad_fn=<DotBackward>)\n",
      "tensor(-5.1822, dtype=torch.float64, grad_fn=<DotBackward>)\n",
      "tensor(-5.1024, dtype=torch.float64, grad_fn=<DotBackward>)\n",
      "tensor(-5.0150, dtype=torch.float64, grad_fn=<DotBackward>)\n",
      "tensor(-4.9187, dtype=torch.float64, grad_fn=<DotBackward>)\n",
      "tensor(-4.8114, dtype=torch.float64, grad_fn=<DotBackward>)\n",
      "tensor(-4.6907, dtype=torch.float64, grad_fn=<DotBackward>)\n",
      "tensor(-4.5531, dtype=torch.float64, grad_fn=<DotBackward>)\n",
      "tensor(-4.3932, dtype=torch.float64, grad_fn=<DotBackward>)\n",
      "tensor(-4.2035, dtype=torch.float64, grad_fn=<DotBackward>)\n",
      "tensor(-3.9714, dtype=torch.float64, grad_fn=<DotBackward>)\n",
      "tensor(-3.6756, dtype=torch.float64, grad_fn=<DotBackward>)\n",
      "tensor(-3.2749, dtype=torch.float64, grad_fn=<DotBackward>)\n",
      "tensor(-2.6778, dtype=torch.float64, grad_fn=<DotBackward>)\n",
      "tensor(-1.6354, dtype=torch.float64, grad_fn=<DotBackward>)\n",
      "tensor(0.6314, dtype=torch.float64, grad_fn=<DotBackward>)\n",
      "tensor(2.0398, dtype=torch.float64, grad_fn=<DotBackward>)\n",
      "tensor(2.1995, dtype=torch.float64, grad_fn=<DotBackward>)\n",
      "tensor(2.3168, dtype=torch.float64, grad_fn=<DotBackward>)\n",
      "tensor(2.4097, dtype=torch.float64, grad_fn=<DotBackward>)\n"
     ]
    }
   ],
   "source": [
    "cost_dirrac, val_dirrac, cost_roar, val_roar = recourse_cost(X_recourse[:2])"
   ]
  },
  {
   "cell_type": "code",
   "execution_count": 100,
   "id": "ac86abfb",
   "metadata": {},
   "outputs": [
    {
     "data": {
      "text/plain": [
       "([3.2760493538067528,\n",
       "  3.375049353806753,\n",
       "  3.775049353806753,\n",
       "  4.178941202268796,\n",
       "  4.178752266026505],\n",
       " [0.597, 1.0, 1.0, 1.0, 1.0],\n",
       " [2.546068553317239,\n",
       "  3.4306475976619635,\n",
       "  4.17130431197972,\n",
       "  4.63420261867716,\n",
       "  4.775320064324818],\n",
       " [0.5, 0.5, 0.757, 0.968, 0.989])"
      ]
     },
     "execution_count": 100,
     "metadata": {},
     "output_type": "execute_result"
    }
   ],
   "source": [
    "cost_dirrac, val_dirrac, cost_roar, val_roar"
   ]
  },
  {
   "cell_type": "code",
   "execution_count": 112,
   "id": "fb36d1d7",
   "metadata": {},
   "outputs": [
    {
     "data": {
      "image/png": "[encoded data removed]",
      "text/plain": [
       "<Figure size 432x288 with 1 Axes>"
      ]
     },
     "metadata": {
      "needs_background": "light"
     },
     "output_type": "display_data"
    }
   ],
   "source": [
    "plt.rcParams.update({'font.size': 13})\n",
    "fig, ax = plt.subplots()\n",
    "ax.plot(cost_dirrac, val_dirrac, marker='+',label='DiRRAc', alpha=0.8)\n",
    "ax.plot(cost_roar[1:3], val_roar[1:3], marker='^', label='ROAR', alpha=0.8)\n",
    "\n",
    "ax.set(xlabel='$l_{1}\\ cost$', ylabel='$M_{2}$ validity')\n",
    "ax.grid()\n",
    "ax.legend(loc='lower right', frameon=False)\n",
    "ax.set_xlim([3.2, 4.2])\n",
    "ax.set_ylim([0.48, 1.01])\n",
    "\n",
    "plt.savefig('result/figure9/cost_robust_dirrac_roar.pdf', dpi=400, transparent=True)\n",
    "plt.show()"
   ]
  }
 ],
 "metadata": {
  "kernelspec": {
   "display_name": "Python 3 (ipykernel)",
   "language": "python",
   "name": "python3"
  },
  "language_info": {
   "codemirror_mode": {
    "name": "ipython",
    "version": 3
   },
   "file_extension": ".py",
   "mimetype": "text/x-python",
   "name": "python",
   "nbconvert_exporter": "python",
   "pygments_lexer": "ipython3",
   "version": "3.7.11"
  }
 },
 "nbformat": 4,
 "nbformat_minor": 5
}
